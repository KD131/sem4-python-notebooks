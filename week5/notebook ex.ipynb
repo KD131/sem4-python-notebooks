{
 "cells": [
  {
   "cell_type": "markdown",
   "metadata": {},
   "source": [
    "## 01 Class exercise slicing dataframe\n",
    "Use this data:\n",
    "```python\n",
    "data = np.array([['','Col1','Col2','col3'],\n",
    "                ['Row1',1,2,3],\n",
    "                ['Row2',4,5,6],\n",
    "                ['Row3',7,8,9]])\n",
    "```\n",
    "1. Create a DataFrame (wrap the data above in a pandas DataFrame in a way that printing the dataframe and its index and column attributes gives this result)  \n",
    "`pd.DataFrame(data=data[1:4,1:4], columns=data[0,1:4], index=data[1:4,0])`  \n",
    "\n",
    "``` \n",
    "     Col1 Col2 col3  \n",
    "Row1    1    2    3\n",
    "Row2    4    5    6\n",
    "Row3    7    8    9\n",
    "\n",
    "Index(['Row1', 'Row2', 'Row3'], dtype='object')\n",
    "Index(['Col1', 'Col2', 'col3'], dtype='object')\n",
    "```\n",
    "\n",
    "2. Make slices of data:\n",
    "   1. second column using column name\n",
    "   2. third column using column index (.iloc[])\n",
    "   3. slice element at third row of second column (use .iloc())"
   ]
  },
  {
   "cell_type": "code",
   "execution_count": 8,
   "metadata": {
    "scrolled": true
   },
   "outputs": [
    {
     "name": "stdout",
     "output_type": "stream",
     "text": [
      "     Col1 Col2 col3\n",
      "Row1    1    2    3\n",
      "Row2    4    5    6\n",
      "Row3    7    8    9\n",
      "Index(['Row1', 'Row2', 'Row3'], dtype='object')\n",
      "Index(['Col1', 'Col2', 'col3'], dtype='object')\n",
      "Row1    2\n",
      "Row2    5\n",
      "Row3    8\n",
      "Name: Col2, dtype: object\n",
      "Row1    3\n",
      "Row2    6\n",
      "Row3    9\n",
      "Name: col3, dtype: object\n",
      "8\n"
     ]
    }
   ],
   "source": [
    "import numpy as np\n",
    "import pandas as pd\n",
    "\n",
    "data = np.array([['','Col1','Col2','col3'],\n",
    "                ['Row1',1,2,3],\n",
    "                ['Row2',4,5,6],\n",
    "                ['Row3',7,8,9]])\n",
    "\n",
    "df = pd.DataFrame(data=data[1:,1:], columns=data[0,1:], index=data[1:,0])\n",
    "print(df)\n",
    "print(df.index)\n",
    "print(df.columns)\n",
    "\n",
    "col2 = df[\"Col2\"]\n",
    "print(col2)\n",
    "\n",
    "col3 = df.iloc[:,2]\n",
    "print(col3)\n",
    "\n",
    "element = df.iloc[2,1] # or iloc[2][1]\n",
    "print(element)"
   ]
  },
  {
   "cell_type": "markdown",
   "metadata": {},
   "source": [
    "## 02 Exercise Pandas Data Series\n",
    "The CO2 Emission data set above is not updated since 2014\n",
    "1. Create a Pandas Series with emission data from 2014 for each country or region\n",
    "2. Find the 10 Countries/Regions with the highest emissions in 2014 and show emission numbers (reverse sorted)\n",
    "3. Remove if you can those rows that are not countries (regions and aggregated groups) (hint:  [ISO 3166, Alpha-3 country codes](https://www.iban.com/country-codes), a csv file can be found here: `/data/country_codes.csv`)\n",
    "    - Find the 10 countries with highest emissions in 2014\n",
    "4. Plot the emissions of China and USA over time respectively"
   ]
  },
  {
   "cell_type": "code",
   "execution_count": 6,
   "metadata": {},
   "outputs": [
    {
     "name": "stdout",
     "output_type": "stream",
     "text": [
      "Country Name\n",
      "China                 1.029193e+07\n",
      "United States         5.225413e+06\n",
      "India                 2.232730e+06\n",
      "Russian Federation    1.736985e+06\n",
      "Japan                 1.206674e+06\n",
      "Germany               7.203638e+05\n",
      "Iran, Islamic Rep.    6.523923e+05\n",
      "Saudi Arabia          6.010470e+05\n",
      "Korea, Rep.           5.871564e+05\n",
      "Canada                5.406148e+05\n",
      "Name: 2014, dtype: float64\n"
     ]
    },
    {
     "data": {
      "text/plain": [
       "<matplotlib.axes._subplots.AxesSubplot at 0x7fe0148b1f50>"
      ]
     },
     "execution_count": 6,
     "metadata": {},
     "output_type": "execute_result"
    },
    {
     "data": {
      "image/png": "[encoded data removed]",
      "text/plain": [
       "<Figure size 432x288 with 1 Axes>"
      ]
     },
     "metadata": {
      "needs_background": "light"
     },
     "output_type": "display_data"
    }
   ],
   "source": [
    "import pandas as pd\n",
    "\n",
    "data = pd.read_csv('../../data/API_EN.ATM.CO2E.KT_DS2_en_csv_v2_1345584.csv', skiprows=4)\n",
    "countries = pd.read_csv(\"../../data/country_codes.csv\", delimiter=\"\\t\", header=None)\n",
    "countries = countries.iloc[:,2].str.rstrip()\n",
    "mask_country = data[\"Country Code\"].isin(countries)\n",
    "# filters, sets index, exracts series on column 2014, sorts descending\n",
    "new_data = data[mask_country].set_index(\"Country Name\")[\"2014\"].sort_values(ascending=False)\n",
    "print(new_data[:10])\n",
    "\n",
    "# 4\n",
    "usa = data[data[\"Country Name\"] == \"United States\"].iloc[0][4:-3]\n",
    "chn = data[data[\"Country Name\"] == \"China\"].iloc[0][4:-3]\n",
    "combined = pd.concat([usa, chn], axis=1, keys=[\"USA\", \"CHN\"])\n",
    "combined.plot()"
   ]
  }
 ],
 "metadata": {
  "kernelspec": {
   "display_name": "Python 3",
   "language": "python",
   "name": "python3"
  },
  "language_info": {
   "codemirror_mode": {
    "name": "ipython",
    "version": 3
   },
   "file_extension": ".py",
   "mimetype": "text/x-python",
   "name": "python",
   "nbconvert_exporter": "python",
   "pygments_lexer": "ipython3",
   "version": "3.7.6"
  }
 },
 "nbformat": 4,
 "nbformat_minor": 4
}
