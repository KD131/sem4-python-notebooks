{
 "cells": [
  {
   "cell_type": "markdown",
   "metadata": {},
   "source": [
    "### Class exercise: table\n",
    "![](../../images/numpy_slice_ex.png)\n",
    "- on the above image find the 5 different slicings using only the array slicing notation"
   ]
  },
  {
   "cell_type": "code",
   "execution_count": 22,
   "metadata": {},
   "outputs": [
    {
     "name": "stdout",
     "output_type": "stream",
     "text": [
      "[[10 11 12 13 14]\n",
      " [15 16 17 18 19]\n",
      " [20 21 22 23 24]\n",
      " [25 26 27 28 29]]\n",
      "\n",
      "yellow: 10 \n",
      "red: [11 12 13] \n",
      "teal:\n",
      " [[11 13]\n",
      " [16 18]\n",
      " [21 23]\n",
      " [26 28]] \n",
      "green: [12 17 22] \n",
      "blue: [14 24]\n"
     ]
    }
   ],
   "source": [
    "import numpy as np\n",
    "\n",
    "a = np.arange(10, 30).reshape(4, 5)\n",
    "print(a)\n",
    "\n",
    "yellow = a[0, 0]\n",
    "red = a[0, 1:4]\n",
    "teal = a[:, 1::2]\n",
    "green = a[:-1, 2]\n",
    "blue = a[::2, -1]\n",
    "\n",
    "print(\"\\nyellow:\", yellow, \"\\nred:\", red, \"\\nteal:\\n\", teal, \"\\ngreen:\", green, \"\\nblue:\", blue)"
   ]
  },
  {
   "cell_type": "markdown",
   "metadata": {},
   "source": [
    "## 3D\n",
    "#### reshape can be done with multiple dimensions. Here is an example with 3d  \n",
    "`a = np.arange(0, 27).reshape((3, 3, 3))`  \n",
    "![](../../images/cube.png)"
   ]
  },
  {
   "cell_type": "markdown",
   "metadata": {},
   "source": [
    "### Class exercise: cube\n",
    "1. Slice out [12 13 14] from the above cube using only one slice. e.g: a[:,:,:]\n",
    "2. Slice out [3 12 21].\n",
    "3. Slice out all y-values where x is 2 and z is 0."
   ]
  },
  {
   "cell_type": "code",
   "execution_count": 36,
   "metadata": {},
   "outputs": [
    {
     "name": "stdout",
     "output_type": "stream",
     "text": [
      "[[[ 0  1  2]\n",
      "  [ 3  4  5]\n",
      "  [ 6  7  8]]\n",
      "\n",
      " [[ 9 10 11]\n",
      "  [12 13 14]\n",
      "  [15 16 17]]\n",
      "\n",
      " [[18 19 20]\n",
      "  [21 22 23]\n",
      "  [24 25 26]]]\n",
      "\n",
      "\n",
      "[12 13 14]\n",
      "[ 3 12 21]\n",
      "[2 5 8]\n"
     ]
    }
   ],
   "source": [
    "a = np.arange(0,27).reshape(3,3,3)\n",
    "print(a)\n",
    "\n",
    "slice1 = a[1, 1, :]\n",
    "slice2 = a[:, 1, 0]\n",
    "slice3 = a[0, :, 2]\n",
    "print(\"\\n\")\n",
    "print(slice1)\n",
    "print(slice2)\n",
    "print(slice3)"
   ]
  },
  {
   "cell_type": "code",
   "execution_count": 38,
   "metadata": {},
   "outputs": [
    {
     "name": "stdout",
     "output_type": "stream",
     "text": [
      "[[[ 0  1  2]\n",
      "  [ 3  4  5]\n",
      "  [ 6  7  8]]\n",
      "\n",
      " [[ 9 10 11]\n",
      "  [12 13 14]\n",
      "  [15 16 17]]\n",
      "\n",
      " [[18 19 20]\n",
      "  [21 22 23]\n",
      "  [24 25 26]]]\n",
      "\n",
      "\n",
      "[[[ 0  1  2]\n",
      "  [99 99 99]\n",
      "  [ 6  7  8]]\n",
      "\n",
      " [[ 9 10 11]\n",
      "  [99 99 99]\n",
      "  [15 16 17]]\n",
      "\n",
      " [[18 19 20]\n",
      "  [99 99 99]\n",
      "  [24 25 26]]]\n"
     ]
    }
   ],
   "source": [
    "# assign value to multiple cells, for fun\n",
    "b = a.copy()\n",
    "print(b)\n",
    "print(\"\\n\")\n",
    "b[:, 1] = 99\n",
    "print(b)"
   ]
  },
  {
   "cell_type": "code",
   "execution_count": 34,
   "metadata": {
    "scrolled": true
   },
   "outputs": [
    {
     "name": "stdout",
     "output_type": "stream",
     "text": [
      "[[[99 99 99]\n",
      "  [99 99 99]\n",
      "  [99 99 99]]\n",
      "\n",
      " [[99 99 99]\n",
      "  [99 99 99]\n",
      "  [99 99 99]]\n",
      "\n",
      " [[99 99 99]\n",
      "  [99 99 99]\n",
      "  [99 99 99]]]\n"
     ]
    }
   ],
   "source": [
    "c = np.empty((3, 3, 3), dtype=int)\n",
    "c[:] = 99\n",
    "print(c)"
   ]
  },
  {
   "cell_type": "markdown",
   "metadata": {},
   "source": [
    "### Class exercise: masking\n",
    "- For the dataset: `data = np.arange(1,101).reshape(10,10)`\n",
    "  - apply a mask that will return only the even numbers\n",
    "  - using `np.where()` return only numbers that ends with 6"
   ]
  },
  {
   "cell_type": "code",
   "execution_count": 47,
   "metadata": {},
   "outputs": [
    {
     "name": "stdout",
     "output_type": "stream",
     "text": [
      "[[False  True False  True False  True False  True False  True]\n",
      " [False  True False  True False  True False  True False  True]\n",
      " [False  True False  True False  True False  True False  True]\n",
      " [False  True False  True False  True False  True False  True]\n",
      " [False  True False  True False  True False  True False  True]\n",
      " [False  True False  True False  True False  True False  True]\n",
      " [False  True False  True False  True False  True False  True]\n",
      " [False  True False  True False  True False  True False  True]\n",
      " [False  True False  True False  True False  True False  True]\n",
      " [False  True False  True False  True False  True False  True]]\n",
      "[  2   4   6   8  10  12  14  16  18  20  22  24  26  28  30  32  34  36\n",
      "  38  40  42  44  46  48  50  52  54  56  58  60  62  64  66  68  70  72\n",
      "  74  76  78  80  82  84  86  88  90  92  94  96  98 100] \n",
      "\n",
      "(array([0, 1, 2, 3, 4, 5, 6, 7, 8, 9]), array([5, 5, 5, 5, 5, 5, 5, 5, 5, 5]))\n",
      "[ 6 16 26 36 46 56 66 76 86 96]\n"
     ]
    }
   ],
   "source": [
    "data = np.arange(1,101).reshape(10,10)\n",
    "\n",
    "evens = data % 2 == 0\n",
    "print(evens)\n",
    "print(data[evens], \"\\n\")\n",
    "\n",
    "sixes = np.where(data % 10 == 6)\n",
    "print(sixes)\n",
    "print(data[sixes])"
   ]
  },
  {
   "cell_type": "markdown",
   "metadata": {},
   "source": [
    "## Exercise numpy and csv\n",
    "\n",
    "1. load the csv file: befkbhalderstatkode.csv into a numpy ndarray\n",
    "2. How many german children of 0 years were there in Copenhagen in 2015?\n",
    "3. create a function that can take any combination of the 4 parameters:AAR,BYDEL,ALDER,STATKODE and return population data\n",
    "4. create a new function like previous so that it can sum values for all ages if age is not provided to the function\n",
    "5. further add functionality to sum values if citizenship or area was not provided to function.\n",
    "6. create a new function that can also give average values for each year if year whas not provided.\n",
    "7. create a function, that given year and nationality can return which area had the most of these nationals by that year. Test it by finding out which area had the most Moroccan people in both 1992 and 2015\n",
    "8. Find the Area(s) where fewest foreingers lived in Copenhagen in 1992 and 2015 respectively\n",
    "9. Find out what age most French people have in 2015"
   ]
  },
  {
   "cell_type": "code",
   "execution_count": 13,
   "metadata": {},
   "outputs": [
    {
     "name": "stdout",
     "output_type": "stream",
     "text": [
      "Germans age 0: 35\n",
      "In year 2015, there were 15 citizen of country code 5130, age 25, in neighbourhood 1.\n",
      "In year 2015, there were 346 citizen of country code 5130, age any, in neighbourhood 1.\n",
      "In year 2015, there were 580295 citizen of country code any, age any, in neighbourhood any.\n",
      "In year average, there were 507058.1666666667 citizen of country code any, age any, in neighbourhood any.\n",
      "There were most people from country code 5244 in neighbourhood 8 in 2015, 332 people.\n",
      "There were most people from country code 5244 in neighbourhood 4 in 1992, 482 people.\n"
     ]
    }
   ],
   "source": [
    "import numpy as np\n",
    "#1\n",
    "file_path = \"../../data/befkbhalderstatkode.csv\"\n",
    "data = np.genfromtxt(file_path, delimiter=\",\", dtype=np.uint, skip_header=1)\n",
    "\n",
    "#2\n",
    "germans_age_0_2015 = data[(data[:,0] == 2015) & (data[:,2] == 0) & (data[:,3] == 5180)][:,4].sum()\n",
    "print(\"Germans age 0:\", germans_age_0_2015)\n",
    "\n",
    "#3\n",
    "def get_pop(year, neighbourhood, age, country):\n",
    "    return data[(data[:,0] == year) & (data[:,1] == neighbourhood) & (data[:,2] == age) & (data[:,3] == country)][:,4].sum()\n",
    "pop_msg = \"In year {}, there were {} citizen of country code {}, age {}, in neighbourhood {}.\"\n",
    "print(pop_msg.format(2015, get_pop(2015, 1, 25, 5130), 5130, 25, 1))\n",
    "\n",
    "#4\n",
    "def get_pop_new(y, n, c, a=None):\n",
    "    age_mask = data[:,2] == a if a else True\n",
    "    return data[(data[:,0] == y) & (data[:,1] == n) & age_mask & (data[:,3] == c)][:,4].sum()\n",
    "print(pop_msg.format(2015, get_pop_new(2015, 1, 5130), 5130, \"any\", 1))\n",
    "\n",
    "#5\n",
    "def get_pop_new_new(y, n=None, c=None, a=None):\n",
    "    neighb_mask = data[:,1] == n if n else True\n",
    "    country_mask = data[:,3] == c if c else True\n",
    "    age_mask = data[:,2] == a if a else True\n",
    "    return data[(data[:,0] == y) & neighb_mask & age_mask & country_mask][:,4].sum()\n",
    "print(pop_msg.format(2015, get_pop_new_new(2015), \"any\", \"any\", \"any\"))\n",
    "\n",
    "#6\n",
    "def get_pop_per_year(y, mask):\n",
    "    return data[mask & (data[:,0] == y)][:,4].sum()\n",
    "\n",
    "def get_pop_new_new_new(y=None, n=None, c=None, a=None):\n",
    "    # if entire mask is True, it adds a layer of list which screws everything up\n",
    "    # year_mask = data[:,0] == y if y else True\n",
    "    neighb_mask = data[:,1] == n if n else True\n",
    "    country_mask = data[:,3] == c if c else True\n",
    "    age_mask = data[:,2] == a if a else True\n",
    "    mask = neighb_mask & age_mask & country_mask\n",
    "    if y:\n",
    "        year_mask = data[:,0] == y\n",
    "        return data[year_mask & mask][:,4].sum()\n",
    "    else:\n",
    "        years = set(data[:,0]) # could also use np.unique()\n",
    "        return np.mean([get_pop_per_year(year, mask) for year in years])\n",
    "print(pop_msg.format(\"average\", get_pop_new_new_new(), \"any\", \"any\", \"any\"))\n",
    "# this solution annoys me. To avoid the overall mask becoming True, I instead iterate all years.\n",
    "\n",
    "#7\n",
    "def pop_per_neighb(neighb, mask):\n",
    "        return data[(data[:,1] == neighb) & mask][:,4].sum()\n",
    "\n",
    "def biggest_neighbourhood_per_nationality(country, year):\n",
    "    mask_year = data[:,0] == year\n",
    "    mask_country = data[:,3] == country\n",
    "    neighbourhoods = np.unique(data[:,1])\n",
    "    pop_in_all = np.array([[n, pop_per_neighb(n, mask_year & mask_country)] for n in neighbourhoods])\n",
    "    # return pop_in_all[np.argsort(pop_in_all[:,1])][-1,:] #sort, return highest\n",
    "    return pop_in_all[pop_in_all.argmax(axis=0)[1]]\n",
    "\n",
    "country = 5244\n",
    "year = 2015\n",
    "neighb, pop = biggest_neighbourhood_per_nationality(country, year)\n",
    "template = \"There were most people from country code {} in neighbourhood {} in {}, {} people.\"\n",
    "print(template.format(country, neighb, year, pop))\n",
    "\n",
    "year = 1992\n",
    "neighb, pop = biggest_neighbourhood_per_nationality(country, year)\n",
    "print(template.format(country, neighb, year, pop))\n",
    "# I really don't like this solution.\n",
    "# I don't like using a loop to aggregate by year. I don't like this way of getting the max value either.\n",
    "# The argmax solution is probably better now."
   ]
  }
 ],
 "metadata": {
  "kernelspec": {
   "display_name": "Python 3",
   "language": "python",
   "name": "python3"
  },
  "language_info": {
   "codemirror_mode": {
    "name": "ipython",
    "version": 3
   },
   "file_extension": ".py",
   "mimetype": "text/x-python",
   "name": "python",
   "nbconvert_exporter": "python",
   "pygments_lexer": "ipython3",
   "version": "3.7.6"
  }
 },
 "nbformat": 4,
 "nbformat_minor": 4
}
