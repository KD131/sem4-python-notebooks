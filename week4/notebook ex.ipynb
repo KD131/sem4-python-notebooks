{
 "cells": [
  {
   "cell_type": "markdown",
   "metadata": {},
   "source": [
    "### Class exercise: table\n",
    "![](../../images/numpy_slice_ex.png)\n",
    "- on the above image find the 5 different slicings using only the array slicing notation"
   ]
  },
  {
   "cell_type": "code",
   "execution_count": 22,
   "metadata": {},
   "outputs": [
    {
     "name": "stdout",
     "output_type": "stream",
     "text": [
      "[[10 11 12 13 14]\n",
      " [15 16 17 18 19]\n",
      " [20 21 22 23 24]\n",
      " [25 26 27 28 29]]\n",
      "\n",
      "yellow: 10 \n",
      "red: [11 12 13] \n",
      "teal:\n",
      " [[11 13]\n",
      " [16 18]\n",
      " [21 23]\n",
      " [26 28]] \n",
      "green: [12 17 22] \n",
      "blue: [14 24]\n"
     ]
    }
   ],
   "source": [
    "import numpy as np\n",
    "\n",
    "a = np.arange(10, 30).reshape(4, 5)\n",
    "print(a)\n",
    "\n",
    "yellow = a[0, 0]\n",
    "red = a[0, 1:4]\n",
    "teal = a[:, 1::2]\n",
    "green = a[:-1, 2]\n",
    "blue = a[::2, -1]\n",
    "\n",
    "print(\"\\nyellow:\", yellow, \"\\nred:\", red, \"\\nteal:\\n\", teal, \"\\ngreen:\", green, \"\\nblue:\", blue)"
   ]
  },
  {
   "cell_type": "markdown",
   "metadata": {},
   "source": [
    "## 3D\n",
    "#### reshape can be done with multiple dimensions. Here is an example with 3d  \n",
    "`a = np.arange(0, 27).reshape((3, 3, 3))`  \n",
    "![](../../images/cube.png)"
   ]
  },
  {
   "cell_type": "markdown",
   "metadata": {},
   "source": [
    "### Class exercise: cube\n",
    "1. Slice out [12 13 14] from the above cube using only one slice. e.g: a[:,:,:]\n",
    "2. Slice out [3 12 21].\n",
    "3. Slice out all y-values where x is 2 and z is 0."
   ]
  },
  {
   "cell_type": "code",
   "execution_count": 36,
   "metadata": {},
   "outputs": [
    {
     "name": "stdout",
     "output_type": "stream",
     "text": [
      "[[[ 0  1  2]\n",
      "  [ 3  4  5]\n",
      "  [ 6  7  8]]\n",
      "\n",
      " [[ 9 10 11]\n",
      "  [12 13 14]\n",
      "  [15 16 17]]\n",
      "\n",
      " [[18 19 20]\n",
      "  [21 22 23]\n",
      "  [24 25 26]]]\n",
      "\n",
      "\n",
      "[12 13 14]\n",
      "[ 3 12 21]\n",
      "[2 5 8]\n"
     ]
    }
   ],
   "source": [
    "a = np.arange(0,27).reshape(3,3,3)\n",
    "print(a)\n",
    "\n",
    "slice1 = a[1, 1, :]\n",
    "slice2 = a[:, 1, 0]\n",
    "slice3 = a[0, :, 2]\n",
    "print(\"\\n\")\n",
    "print(slice1)\n",
    "print(slice2)\n",
    "print(slice3)"
   ]
  },
  {
   "cell_type": "code",
   "execution_count": 35,
   "metadata": {},
   "outputs": [
    {
     "name": "stdout",
     "output_type": "stream",
     "text": [
      "[[[ 0  1  2]\n",
      "  [99 99 99]\n",
      "  [ 6  7  8]]\n",
      "\n",
      " [[ 9 10 11]\n",
      "  [99 99 99]\n",
      "  [15 16 17]]\n",
      "\n",
      " [[18 19 20]\n",
      "  [99 99 99]\n",
      "  [24 25 26]]]\n",
      "\n",
      "\n",
      "[[[ 0  1  2]\n",
      "  [99 99 99]\n",
      "  [ 6  7  8]]\n",
      "\n",
      " [[ 9 10 11]\n",
      "  [99 99 99]\n",
      "  [15 16 17]]\n",
      "\n",
      " [[18 19 20]\n",
      "  [99 99 99]\n",
      "  [24 25 26]]]\n",
      "[[[ 0  1  2]\n",
      "  [99 99 99]\n",
      "  [ 6  7  8]]\n",
      "\n",
      " [[ 9 10 11]\n",
      "  [99 99 99]\n",
      "  [15 16 17]]\n",
      "\n",
      " [[18 19 20]\n",
      "  [99 99 99]\n",
      "  [24 25 26]]]\n"
     ]
    }
   ],
   "source": [
    "# assign value to multiple cells, for fun\n",
    "b = a[:]\n",
    "print(b)\n",
    "print(\"\\n\")\n",
    "b[:, 1] = 99\n",
    "print(b)"
   ]
  },
  {
   "cell_type": "code",
   "execution_count": 34,
   "metadata": {},
   "outputs": [
    {
     "name": "stdout",
     "output_type": "stream",
     "text": [
      "[[[99 99 99]\n",
      "  [99 99 99]\n",
      "  [99 99 99]]\n",
      "\n",
      " [[99 99 99]\n",
      "  [99 99 99]\n",
      "  [99 99 99]]\n",
      "\n",
      " [[99 99 99]\n",
      "  [99 99 99]\n",
      "  [99 99 99]]]\n"
     ]
    }
   ],
   "source": [
    "c = np.empty((3, 3, 3), dtype=int)\n",
    "c[:] = 99\n",
    "print(c)"
   ]
  }
 ],
 "metadata": {
  "kernelspec": {
   "display_name": "Python 3",
   "language": "python",
   "name": "python3"
  },
  "language_info": {
   "codemirror_mode": {
    "name": "ipython",
    "version": 3
   },
   "file_extension": ".py",
   "mimetype": "text/x-python",
   "name": "python",
   "nbconvert_exporter": "python",
   "pygments_lexer": "ipython3",
   "version": "3.7.6"
  }
 },
 "nbformat": 4,
 "nbformat_minor": 4
}
