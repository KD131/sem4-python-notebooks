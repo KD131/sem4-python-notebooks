{
 "cells": [
  {
   "cell_type": "code",
   "execution_count": 2,
   "metadata": {},
   "outputs": [
    {
     "name": "stdout",
     "output_type": "stream",
     "text": [
      "The globe is heating up!\n"
     ]
    },
    {
     "ename": "ModuleNotFoundError",
     "evalue": "No module named 'modules.global_warming.py'; 'modules.global_warming' is not a package",
     "output_type": "error",
     "traceback": [
      "\u001b[0;31m---------------------------------------------------------------------------\u001b[0m",
      "\u001b[0;31mModuleNotFoundError\u001b[0m                       Traceback (most recent call last)",
      "\u001b[0;32m<ipython-input-2-9709a2ebf8aa>\u001b[0m in \u001b[0;36m<module>\u001b[0;34m\u001b[0m\n\u001b[0;32m----> 1\u001b[0;31m \u001b[0;32mfrom\u001b[0m \u001b[0mmodules\u001b[0m\u001b[0;34m.\u001b[0m\u001b[0mglobal_warming\u001b[0m\u001b[0;34m.\u001b[0m\u001b[0mpy\u001b[0m \u001b[0;32mimport\u001b[0m \u001b[0mglobal_warming_status\u001b[0m \u001b[0;32mas\u001b[0m \u001b[0mgws\u001b[0m\u001b[0;34m\u001b[0m\u001b[0;34m\u001b[0m\u001b[0m\n\u001b[0m\u001b[1;32m      2\u001b[0m \u001b[0;34m\u001b[0m\u001b[0m\n\u001b[1;32m      3\u001b[0m \u001b[0mgws\u001b[0m\u001b[0;34m\u001b[0m\u001b[0;34m\u001b[0m\u001b[0m\n",
      "\u001b[0;31mModuleNotFoundError\u001b[0m: No module named 'modules.global_warming.py'; 'modules.global_warming' is not a package"
     ]
    }
   ],
   "source": [
    "from modules.global_warming.py import global_warming_status as gws\n",
    "\n",
    "gws"
   ]
  },
  {
   "cell_type": "code",
   "execution_count": null,
   "metadata": {},
   "outputs": [],
   "source": [
    "import sys\n",
    "sys.argv?"
   ]
  },
  {
   "cell_type": "code",
   "execution_count": 11,
   "metadata": {
    "scrolled": true
   },
   "outputs": [
    {
     "name": "stdout",
     "output_type": "stream",
     "text": [
      "[]\n",
      "[9]\n",
      "[9, 8, 7, 6, 5, 4, 3, 2, 1, 0]\n",
      "[0, 2, 4, 6, 8]\n",
      "[0, 2, 4, 6, 8]\n",
      "[0, 2]\n",
      "[0]\n"
     ]
    }
   ],
   "source": [
    "nums = [0,1,2,3,4,5,6,7,8,9]\n",
    "print(nums[-1:-1])\n",
    "print(nums[-1:])\n",
    "print(nums[::-1])\n",
    "print(nums[::2])\n",
    "print(nums[:-1:2])\n",
    "\n",
    "print([0,1,2][::2])\n",
    "print([0,1,2][:-1:2])"
   ]
  },
  {
   "cell_type": "code",
   "execution_count": 5,
   "metadata": {},
   "outputs": [
    {
     "name": "stdout",
     "output_type": "stream",
     "text": [
      "[[ 1 20 30 40]\n",
      " [ 2 20 30 40]\n",
      " [ 3 20 30 40]] \n",
      "\n",
      "[[[ 1 20 30 40]\n",
      "  [ 2 20 30 40]\n",
      "  [ 3 20 30 40]]] \n",
      "\n",
      "[ 2 20 30 40] \n",
      "\n",
      "[[ 3 20 30 40]] \n",
      "\n"
     ]
    }
   ],
   "source": [
    "import numpy as np\n",
    "\n",
    "a = np.array([[1,20,30,40],\n",
    "             [2,20,30,40],\n",
    "             [3,20,30,40]])\n",
    "print(a, \"\\n\")\n",
    "print(a[True], \"\\n\")\n",
    "print(a[1], \"\\n\")\n",
    "print(a[a[:,0] == 3], \"\\n\")\n",
    "print(a[a[:,0] == 3], \"\\n\")\n",
    "\n",
    "# using True as a mask to get all values dumps them inside a new layer of a list. Well that sucks."
   ]
  }
 ],
 "metadata": {
  "kernelspec": {
   "display_name": "Python 3",
   "language": "python",
   "name": "python3"
  },
  "language_info": {
   "codemirror_mode": {
    "name": "ipython",
    "version": 3
   },
   "file_extension": ".py",
   "mimetype": "text/x-python",
   "name": "python",
   "nbconvert_exporter": "python",
   "pygments_lexer": "ipython3",
   "version": "3.7.6"
  }
 },
 "nbformat": 4,
 "nbformat_minor": 4
}
